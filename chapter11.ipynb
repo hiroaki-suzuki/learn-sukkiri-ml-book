{
 "cells": [
  {
   "cell_type": "markdown",
   "source": [
    "## 11.1 リッジ回帰"
   ],
   "metadata": {
    "collapsed": false
   },
   "id": "f3e3cbca7084ea8e"
  },
  {
   "cell_type": "code",
   "execution_count": 22,
   "outputs": [],
   "source": [
    "import pandas as pd\n",
    "from sklearn.model_selection import train_test_split\n",
    "%matplotlib inline\n",
    "from sklearn.preprocessing import StandardScaler\n",
    "\n",
    "df = pd.read_csv('data/Boston.csv')\n",
    "df = df.fillna(df.loc[:, 'ZN':].mean())  # 欠損値を平均値で埋める\n",
    "df = df.drop([76], axis=0)  # 76番目の外れ値を削除\n",
    "\n",
    "t = df[['PRICE']]  # 正解データの抜き出し\n",
    "x = df.loc[:, ['RM', 'LSTAT', 'PTRATIO']]  # 特徴量の抜き出し\n",
    "\n",
    "# 標準化\n",
    "sc = StandardScaler()\n",
    "sc_x = sc.fit_transform(x)\n",
    "sc2 = StandardScaler()\n",
    "sc_t = sc2.fit_transform(t)"
   ],
   "metadata": {
    "collapsed": false,
    "ExecuteTime": {
     "end_time": "2023-09-16T13:37:43.465416Z",
     "start_time": "2023-09-16T13:37:43.453447Z"
    }
   },
   "id": "bb27753e8cd9c437"
  },
  {
   "cell_type": "code",
   "execution_count": 27,
   "outputs": [
    {
     "data": {
      "text/plain": "(99, 9)"
     },
     "execution_count": 27,
     "metadata": {},
     "output_type": "execute_result"
    }
   ],
   "source": [
    "from sklearn.preprocessing import PolynomialFeatures\n",
    "\n",
    "pf = PolynomialFeatures(degree=2, include_bias=False)\n",
    "pf_x = pf.fit_transform(sc_x)  # 二乗列と交互作用特徴量の追加\n",
    "pf_x.shape"
   ],
   "metadata": {
    "collapsed": false,
    "ExecuteTime": {
     "end_time": "2023-09-16T13:41:08.693868Z",
     "start_time": "2023-09-16T13:41:08.685665Z"
    }
   },
   "id": "7e9e4fcda5297da6"
  },
  {
   "cell_type": "code",
   "execution_count": 29,
   "outputs": [
    {
     "data": {
      "text/plain": "array(['x0', 'x1', 'x2', 'x0^2', 'x0 x1', 'x0 x2', 'x1^2', 'x1 x2',\n       'x2^2'], dtype=object)"
     },
     "execution_count": 29,
     "metadata": {},
     "output_type": "execute_result"
    }
   ],
   "source": [
    "pf.get_feature_names_out()"
   ],
   "metadata": {
    "collapsed": false,
    "ExecuteTime": {
     "end_time": "2023-09-16T13:42:10.255739Z",
     "start_time": "2023-09-16T13:42:10.241858Z"
    }
   },
   "id": "b04fb42c1f7374bd"
  },
  {
   "cell_type": "code",
   "execution_count": 30,
   "outputs": [
    {
     "name": "stdout",
     "output_type": "stream",
     "text": [
      "0.8710525685992707\n"
     ]
    },
    {
     "data": {
      "text/plain": "0.7854929935582586"
     },
     "execution_count": 30,
     "metadata": {},
     "output_type": "execute_result"
    }
   ],
   "source": [
    "from sklearn.linear_model import LinearRegression\n",
    "\n",
    "x_train, x_test, y_train, y_test = train_test_split(pf_x, sc_t, test_size=0.3, random_state=0)\n",
    "model = LinearRegression()\n",
    "model.fit(x_train, y_train)\n",
    "\n",
    "print(model.score(x_train, y_train))  # 学習データに対する決定係数\n",
    "model.score(x_test, y_test)  # テストデータに対する決定係数"
   ],
   "metadata": {
    "collapsed": false,
    "ExecuteTime": {
     "end_time": "2023-09-16T13:44:02.665737Z",
     "start_time": "2023-09-16T13:44:02.382127Z"
    }
   },
   "id": "adeea4449eab2819"
  },
  {
   "cell_type": "code",
   "execution_count": 32,
   "outputs": [
    {
     "name": "stdout",
     "output_type": "stream",
     "text": [
      "0.8607320524729507\n",
      "0.8458730019328174\n"
     ]
    }
   ],
   "source": [
    "from sklearn.linear_model import Ridge\n",
    "\n",
    "ridge_model = Ridge(alpha=10)\n",
    "ridge_model.fit(x_train, y_train)\n",
    "print(ridge_model.score(x_train, y_train))\n",
    "print(ridge_model.score(x_test, y_test))\n"
   ],
   "metadata": {
    "collapsed": false,
    "ExecuteTime": {
     "end_time": "2023-09-16T13:45:29.584716Z",
     "start_time": "2023-09-16T13:45:29.575993Z"
    }
   },
   "id": "619a386af85238e8"
  },
  {
   "cell_type": "code",
   "execution_count": 33,
   "outputs": [
    {
     "name": "stdout",
     "output_type": "stream",
     "text": [
      "17.62 0.8528754801497631\n"
     ]
    }
   ],
   "source": [
    "max_score = 0\n",
    "max_index = 0\n",
    "\n",
    "for i in range(1, 2001):\n",
    "    num = i / 100\n",
    "    ridge_model = Ridge(random_state=0, alpha=num)\n",
    "    ridge_model.fit(x_train, y_train)\n",
    "\n",
    "    result = ridge_model.score(x_test, y_test)\n",
    "    if result > max_score:\n",
    "        max_score = result\n",
    "        max_index = num\n",
    "\n",
    "print(max_index, max_score)\n"
   ],
   "metadata": {
    "collapsed": false,
    "ExecuteTime": {
     "end_time": "2023-09-16T14:24:09.638496Z",
     "start_time": "2023-09-16T14:24:08.860865Z"
    }
   },
   "id": "53ed2857ec44b993"
  },
  {
   "cell_type": "code",
   "execution_count": 34,
   "outputs": [
    {
     "name": "stdout",
     "output_type": "stream",
     "text": [
      "1.5566745983288368\n",
      "1.2152800824026817\n"
     ]
    }
   ],
   "source": [
    "print(sum(abs(model.coef_)[0]))  # 線形回帰の係数（絶対値）\n",
    "\n",
    "print(sum(abs(ridge_model.coef_)[0]))  # リッジ回帰の合計"
   ],
   "metadata": {
    "collapsed": false,
    "ExecuteTime": {
     "end_time": "2023-09-16T14:25:29.903Z",
     "start_time": "2023-09-16T14:25:29.875713Z"
    }
   },
   "id": "e3690b6391c64d1c"
  },
  {
   "cell_type": "markdown",
   "source": [
    "## 11.2 ラッソ回帰"
   ],
   "metadata": {
    "collapsed": false
   },
   "id": "c4a425aa4ca84f76"
  },
  {
   "cell_type": "code",
   "execution_count": 35,
   "outputs": [
    {
     "name": "stdout",
     "output_type": "stream",
     "text": [
      "0.8224678000490602\n",
      "0.8588446290242331\n"
     ]
    }
   ],
   "source": [
    "from sklearn.linear_model import Lasso\n",
    "\n",
    "x_train, x_test, y_train, y_test = train_test_split(pf_x, sc_t, test_size=0.3, random_state=0)\n",
    "\n",
    "# ラッソ回帰のモデル作成（alphaは正規化項につく定数）\n",
    "model = Lasso(alpha=0.1)\n",
    "model.fit(x_train, y_train)\n",
    "\n",
    "print(model.score(x_train, y_train))  # 学習データに対する決定係数\n",
    "print(model.score(x_test, y_test))  # テストデータに対する決定係数"
   ],
   "metadata": {
    "collapsed": false,
    "ExecuteTime": {
     "end_time": "2023-09-16T14:39:42.784255Z",
     "start_time": "2023-09-16T14:39:42.771565Z"
    }
   },
   "id": "b449c6e1b601d06d"
  },
  {
   "cell_type": "code",
   "execution_count": 36,
   "outputs": [
    {
     "data": {
      "text/plain": "x0       0.409427\nx1      -0.287723\nx2      -0.083087\nx0^2     0.150000\nx0 x1   -0.037458\nx0 x2   -0.000000\nx1^2     0.000000\nx1 x2    0.000000\nx2^2    -0.000000\ndtype: float64"
     },
     "execution_count": 36,
     "metadata": {},
     "output_type": "execute_result"
    }
   ],
   "source": [
    "weight = model.coef_  # 係数の取得\n",
    "pd.Series(weight, index=pf.get_feature_names_out())\n"
   ],
   "metadata": {
    "collapsed": false,
    "ExecuteTime": {
     "end_time": "2023-09-16T14:40:42.623656Z",
     "start_time": "2023-09-16T14:40:42.589248Z"
    }
   },
   "id": "7d8e99b505e11e08"
  },
  {
   "cell_type": "markdown",
   "source": [
    "## 11.3 回帰木"
   ],
   "metadata": {
    "collapsed": false
   },
   "id": "710763c675e28400"
  },
  {
   "cell_type": "code",
   "execution_count": 37,
   "outputs": [],
   "source": [
    "df = pd.read_csv('data/Boston.csv')\n",
    "df = df.fillna(df.loc[:, 'ZN':].mean())  # 欠損値を平均値で埋める\n",
    "x = df.loc[:, 'ZN':'LSTAT']\n",
    "t = df['PRICE']\n",
    "\n",
    "x_train, x_test, y_train, y_test = train_test_split(x, t, test_size=0.3, random_state=0)\n"
   ],
   "metadata": {
    "collapsed": false,
    "ExecuteTime": {
     "end_time": "2023-09-16T14:44:28.099149Z",
     "start_time": "2023-09-16T14:44:28.073888Z"
    }
   },
   "id": "a7ec8b0c27c23f1f"
  },
  {
   "cell_type": "code",
   "execution_count": 39,
   "outputs": [
    {
     "data": {
      "text/plain": "0.59433275545417"
     },
     "execution_count": 39,
     "metadata": {},
     "output_type": "execute_result"
    }
   ],
   "source": [
    "from sklearn.tree import DecisionTreeRegressor\n",
    "\n",
    "model = DecisionTreeRegressor(max_depth=10, random_state=0)\n",
    "model.fit(x_train, y_train)\n",
    "model.score(x_test, y_test)  # テストデータの決定係数"
   ],
   "metadata": {
    "collapsed": false,
    "ExecuteTime": {
     "end_time": "2023-09-16T14:45:38.110966Z",
     "start_time": "2023-09-16T14:45:38.087156Z"
    }
   },
   "id": "ac6a140304ff86be"
  },
  {
   "cell_type": "code",
   "execution_count": 40,
   "outputs": [
    {
     "data": {
      "text/plain": "ZN         0.000252\nINDUS      0.007301\nCHAS       0.000000\nNOX        0.001967\nRM         0.759547\nAGE        0.139388\nDIS        0.013635\nRAD        0.000404\nTAX        0.013975\nPTRATIO    0.001913\nB          0.003331\nLSTAT      0.058287\ndtype: float64"
     },
     "execution_count": 40,
     "metadata": {},
     "output_type": "execute_result"
    }
   ],
   "source": [
    "pd.Series(model.feature_importances_, index=x.columns)"
   ],
   "metadata": {
    "collapsed": false,
    "ExecuteTime": {
     "end_time": "2023-09-16T14:46:10.370090Z",
     "start_time": "2023-09-16T14:46:10.353413Z"
    }
   },
   "id": "1f162eb09f86574c"
  }
 ],
 "metadata": {
  "kernelspec": {
   "display_name": "Python 3",
   "language": "python",
   "name": "python3"
  },
  "language_info": {
   "codemirror_mode": {
    "name": "ipython",
    "version": 2
   },
   "file_extension": ".py",
   "mimetype": "text/x-python",
   "name": "python",
   "nbconvert_exporter": "python",
   "pygments_lexer": "ipython2",
   "version": "2.7.6"
  }
 },
 "nbformat": 4,
 "nbformat_minor": 5
}
