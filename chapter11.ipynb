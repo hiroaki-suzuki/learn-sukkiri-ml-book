{
 "cells": [
  {
   "cell_type": "markdown",
   "source": [
    "## 11.1 リッジ回帰"
   ],
   "metadata": {
    "collapsed": false
   },
   "id": "f3e3cbca7084ea8e"
  },
  {
   "cell_type": "code",
   "execution_count": 22,
   "outputs": [],
   "source": [
    "import pandas as pd\n",
    "from sklearn.model_selection import train_test_split\n",
    "%matplotlib inline\n",
    "from sklearn.preprocessing import StandardScaler\n",
    "\n",
    "df = pd.read_csv('data/Boston.csv')\n",
    "df = df.fillna(df.loc[:, 'ZN':].mean())  # 欠損値を平均値で埋める\n",
    "df = df.drop([76], axis=0)  # 76番目の外れ値を削除\n",
    "\n",
    "t = df[['PRICE']]  # 正解データの抜き出し\n",
    "x = df.loc[:, ['RM', 'LSTAT', 'PTRATIO']]  # 特徴量の抜き出し\n",
    "\n",
    "# 標準化\n",
    "sc = StandardScaler()\n",
    "sc_x = sc.fit_transform(x)\n",
    "sc2 = StandardScaler()\n",
    "sc_t = sc2.fit_transform(t)"
   ],
   "metadata": {
    "collapsed": false,
    "ExecuteTime": {
     "end_time": "2023-09-16T13:37:43.465416Z",
     "start_time": "2023-09-16T13:37:43.453447Z"
    }
   },
   "id": "bb27753e8cd9c437"
  },
  {
   "cell_type": "code",
   "execution_count": 27,
   "outputs": [
    {
     "data": {
      "text/plain": "(99, 9)"
     },
     "execution_count": 27,
     "metadata": {},
     "output_type": "execute_result"
    }
   ],
   "source": [
    "from sklearn.preprocessing import PolynomialFeatures\n",
    "\n",
    "pf = PolynomialFeatures(degree=2, include_bias=False)\n",
    "pf_x = pf.fit_transform(sc_x)  # 二乗列と交互作用特徴量の追加\n",
    "pf_x.shape"
   ],
   "metadata": {
    "collapsed": false,
    "ExecuteTime": {
     "end_time": "2023-09-16T13:41:08.693868Z",
     "start_time": "2023-09-16T13:41:08.685665Z"
    }
   },
   "id": "7e9e4fcda5297da6"
  },
  {
   "cell_type": "code",
   "execution_count": 29,
   "outputs": [
    {
     "data": {
      "text/plain": "array(['x0', 'x1', 'x2', 'x0^2', 'x0 x1', 'x0 x2', 'x1^2', 'x1 x2',\n       'x2^2'], dtype=object)"
     },
     "execution_count": 29,
     "metadata": {},
     "output_type": "execute_result"
    }
   ],
   "source": [
    "pf.get_feature_names_out()"
   ],
   "metadata": {
    "collapsed": false,
    "ExecuteTime": {
     "end_time": "2023-09-16T13:42:10.255739Z",
     "start_time": "2023-09-16T13:42:10.241858Z"
    }
   },
   "id": "b04fb42c1f7374bd"
  },
  {
   "cell_type": "code",
   "execution_count": 30,
   "outputs": [
    {
     "name": "stdout",
     "output_type": "stream",
     "text": [
      "0.8710525685992707\n"
     ]
    },
    {
     "data": {
      "text/plain": "0.7854929935582586"
     },
     "execution_count": 30,
     "metadata": {},
     "output_type": "execute_result"
    }
   ],
   "source": [
    "from sklearn.linear_model import LinearRegression\n",
    "\n",
    "x_train, x_test, y_train, y_test = train_test_split(pf_x, sc_t, test_size=0.3, random_state=0)\n",
    "model = LinearRegression()\n",
    "model.fit(x_train, y_train)\n",
    "\n",
    "print(model.score(x_train, y_train))  # 学習データに対する決定係数\n",
    "model.score(x_test, y_test)  # テストデータに対する決定係数"
   ],
   "metadata": {
    "collapsed": false,
    "ExecuteTime": {
     "end_time": "2023-09-16T13:44:02.665737Z",
     "start_time": "2023-09-16T13:44:02.382127Z"
    }
   },
   "id": "adeea4449eab2819"
  },
  {
   "cell_type": "code",
   "execution_count": 32,
   "outputs": [
    {
     "name": "stdout",
     "output_type": "stream",
     "text": [
      "0.8607320524729507\n",
      "0.8458730019328174\n"
     ]
    }
   ],
   "source": [
    "from sklearn.linear_model import Ridge\n",
    "\n",
    "ridge_model = Ridge(alpha=10)\n",
    "ridge_model.fit(x_train, y_train)\n",
    "print(ridge_model.score(x_train, y_train))\n",
    "print(ridge_model.score(x_test, y_test))\n"
   ],
   "metadata": {
    "collapsed": false,
    "ExecuteTime": {
     "end_time": "2023-09-16T13:45:29.584716Z",
     "start_time": "2023-09-16T13:45:29.575993Z"
    }
   },
   "id": "619a386af85238e8"
  },
  {
   "cell_type": "code",
   "execution_count": 33,
   "outputs": [
    {
     "name": "stdout",
     "output_type": "stream",
     "text": [
      "17.62 0.8528754801497631\n"
     ]
    }
   ],
   "source": [
    "max_score = 0\n",
    "max_index = 0\n",
    "\n",
    "for i in range(1, 2001):\n",
    "    num = i / 100\n",
    "    ridge_model = Ridge(random_state=0, alpha=num)\n",
    "    ridge_model.fit(x_train, y_train)\n",
    "\n",
    "    result = ridge_model.score(x_test, y_test)\n",
    "    if result > max_score:\n",
    "        max_score = result\n",
    "        max_index = num\n",
    "\n",
    "print(max_index, max_score)\n"
   ],
   "metadata": {
    "collapsed": false,
    "ExecuteTime": {
     "end_time": "2023-09-16T14:24:09.638496Z",
     "start_time": "2023-09-16T14:24:08.860865Z"
    }
   },
   "id": "53ed2857ec44b993"
  },
  {
   "cell_type": "code",
   "execution_count": 34,
   "outputs": [
    {
     "name": "stdout",
     "output_type": "stream",
     "text": [
      "1.5566745983288368\n",
      "1.2152800824026817\n"
     ]
    }
   ],
   "source": [
    "print(sum(abs(model.coef_)[0]))  # 線形回帰の係数（絶対値）\n",
    "\n",
    "print(sum(abs(ridge_model.coef_)[0]))  # リッジ回帰の合計"
   ],
   "metadata": {
    "collapsed": false,
    "ExecuteTime": {
     "end_time": "2023-09-16T14:25:29.903Z",
     "start_time": "2023-09-16T14:25:29.875713Z"
    }
   },
   "id": "e3690b6391c64d1c"
  }
 ],
 "metadata": {
  "kernelspec": {
   "display_name": "Python 3",
   "language": "python",
   "name": "python3"
  },
  "language_info": {
   "codemirror_mode": {
    "name": "ipython",
    "version": 2
   },
   "file_extension": ".py",
   "mimetype": "text/x-python",
   "name": "python",
   "nbconvert_exporter": "python",
   "pygments_lexer": "ipython2",
   "version": "2.7.6"
  }
 },
 "nbformat": 4,
 "nbformat_minor": 5
}
