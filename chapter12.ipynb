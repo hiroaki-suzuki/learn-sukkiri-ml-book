{
 "cells": [
  {
   "cell_type": "markdown",
   "source": [
    "## 12.1 ロジスティック回帰"
   ],
   "metadata": {
    "collapsed": false
   },
   "id": "b68f3dcebd5d49a4"
  },
  {
   "cell_type": "code",
   "execution_count": 1,
   "id": "initial_id",
   "metadata": {
    "collapsed": true,
    "ExecuteTime": {
     "end_time": "2023-09-17T07:57:10.092020Z",
     "start_time": "2023-09-17T07:57:07.781902Z"
    }
   },
   "outputs": [
    {
     "name": "stdout",
     "output_type": "stream",
     "text": [
      "['きのこ']\n",
      "[[0.6 0.4]]\n"
     ]
    },
    {
     "name": "stderr",
     "output_type": "stream",
     "text": [
      "/Users/hiroaki/dev/learn/python/learn-sukkiri-ml/venv/lib/python3.9/site-packages/sklearn/base.py:464: UserWarning: X does not have valid feature names, but DecisionTreeClassifier was fitted with feature names\n",
      "  warnings.warn(\n",
      "/Users/hiroaki/dev/learn/python/learn-sukkiri-ml/venv/lib/python3.9/site-packages/sklearn/base.py:464: UserWarning: X does not have valid feature names, but DecisionTreeClassifier was fitted with feature names\n",
      "  warnings.warn(\n"
     ]
    }
   ],
   "source": [
    "# 分類木も予測結果を確率で表示できる\n",
    "import pandas as pd\n",
    "from sklearn import tree\n",
    "\n",
    "df = pd.read_csv(\"data/KvsT.csv\")\n",
    "x = df.loc[:, \"体重\":\"年代\"]\n",
    "t = df[\"派閥\"]\n",
    "\n",
    "model = tree.DecisionTreeClassifier(max_depth=1, random_state=0)\n",
    "model.fit(x, t)\n",
    "\n",
    "data = [[65, 20]]  # 予測結果用の未知のデータ\n",
    "print(model.predict(data))  # 予測派閥\n",
    "print(model.predict_proba(data))  # 派閥の確率\n",
    "# 0.6 がきのこ派である確率、0.4 がたけのこ派である確率"
   ]
  },
  {
   "cell_type": "code",
   "execution_count": 2,
   "outputs": [
    {
     "data": {
      "text/plain": "   がく片長さ  がく片幅  花弁長さ   花弁幅           種類\n0   0.22  0.63  0.08  0.04  Iris-setosa\n1   0.17  0.42  0.35  0.04  Iris-setosa\n2   0.11  0.50  0.13  0.04  Iris-setosa\n3   0.08  0.46  0.26  0.04  Iris-setosa\n4   0.19  0.67  0.44  0.04  Iris-setosa",
      "text/html": "<div>\n<style scoped>\n    .dataframe tbody tr th:only-of-type {\n        vertical-align: middle;\n    }\n\n    .dataframe tbody tr th {\n        vertical-align: top;\n    }\n\n    .dataframe thead th {\n        text-align: right;\n    }\n</style>\n<table border=\"1\" class=\"dataframe\">\n  <thead>\n    <tr style=\"text-align: right;\">\n      <th></th>\n      <th>がく片長さ</th>\n      <th>がく片幅</th>\n      <th>花弁長さ</th>\n      <th>花弁幅</th>\n      <th>種類</th>\n    </tr>\n  </thead>\n  <tbody>\n    <tr>\n      <th>0</th>\n      <td>0.22</td>\n      <td>0.63</td>\n      <td>0.08</td>\n      <td>0.04</td>\n      <td>Iris-setosa</td>\n    </tr>\n    <tr>\n      <th>1</th>\n      <td>0.17</td>\n      <td>0.42</td>\n      <td>0.35</td>\n      <td>0.04</td>\n      <td>Iris-setosa</td>\n    </tr>\n    <tr>\n      <th>2</th>\n      <td>0.11</td>\n      <td>0.50</td>\n      <td>0.13</td>\n      <td>0.04</td>\n      <td>Iris-setosa</td>\n    </tr>\n    <tr>\n      <th>3</th>\n      <td>0.08</td>\n      <td>0.46</td>\n      <td>0.26</td>\n      <td>0.04</td>\n      <td>Iris-setosa</td>\n    </tr>\n    <tr>\n      <th>4</th>\n      <td>0.19</td>\n      <td>0.67</td>\n      <td>0.44</td>\n      <td>0.04</td>\n      <td>Iris-setosa</td>\n    </tr>\n  </tbody>\n</table>\n</div>"
     },
     "execution_count": 2,
     "metadata": {},
     "output_type": "execute_result"
    }
   ],
   "source": [
    "from sklearn.model_selection import train_test_split\n",
    "\n",
    "df = pd.read_csv(\"data/iris.csv\")\n",
    "df.head()"
   ],
   "metadata": {
    "collapsed": false,
    "ExecuteTime": {
     "end_time": "2023-09-17T07:57:10.106349Z",
     "start_time": "2023-09-17T07:57:10.093358Z"
    }
   },
   "id": "63da2e7f8cdad750"
  },
  {
   "cell_type": "code",
   "execution_count": 3,
   "outputs": [],
   "source": [
    "# 本来なら訓練&検証データ、テストデータに分割するが割愛\n",
    "df_mean = df.loc[:, :\"花弁幅\"].mean()\n",
    "train2 = df.fillna(df_mean)\n",
    "\n",
    "x = train2.loc[:, :\"花弁幅\"]\n",
    "t = train2[\"種類\"]\n",
    "\n",
    "# 特徴量の標準化\n",
    "# ロジスティック回帰は、特徴量を標準化しないと予測性能が良くなりにくい\n",
    "from sklearn.preprocessing import StandardScaler\n",
    "\n",
    "sc = StandardScaler()\n",
    "new = sc.fit_transform(x)\n"
   ],
   "metadata": {
    "collapsed": false,
    "ExecuteTime": {
     "end_time": "2023-09-17T07:57:10.112619Z",
     "start_time": "2023-09-17T07:57:10.110960Z"
    }
   },
   "id": "50fb9afc24d40e07"
  },
  {
   "cell_type": "code",
   "execution_count": 4,
   "outputs": [],
   "source": [
    "x_train, x_val, y_train, y_val = train_test_split(new, t, test_size=0.2, random_state=0)\n",
    "\n",
    "from sklearn.linear_model import LogisticRegression\n",
    "\n",
    "# C=0.1 は正規化項の定数、正規化項の影響力を調整するための重み定数\n",
    "# Cは小さい方が、過学習を防げる（回帰のalphaとは逆）\n",
    "# multi_classは、３グループ以上の分類の場合はautoにする\n",
    "# solverは、最適化アルゴリズムの指定\n",
    "model = LogisticRegression(random_state=0, C=0.1, multi_class='auto', solver='lbfgs')"
   ],
   "metadata": {
    "collapsed": false,
    "ExecuteTime": {
     "end_time": "2023-09-17T07:57:10.137986Z",
     "start_time": "2023-09-17T07:57:10.114407Z"
    }
   },
   "id": "3344173ad00adc5b"
  },
  {
   "cell_type": "code",
   "execution_count": 5,
   "outputs": [
    {
     "name": "stdout",
     "output_type": "stream",
     "text": [
      "0.8666666666666667\n"
     ]
    },
    {
     "data": {
      "text/plain": "0.8333333333333334"
     },
     "execution_count": 5,
     "metadata": {},
     "output_type": "execute_result"
    }
   ],
   "source": [
    "model.fit(x_train, y_train)\n",
    "print(model.score(x_train, y_train))\n",
    "model.score(x_val, y_val)"
   ],
   "metadata": {
    "collapsed": false,
    "ExecuteTime": {
     "end_time": "2023-09-17T07:57:10.165521Z",
     "start_time": "2023-09-17T07:57:10.121457Z"
    }
   },
   "id": "c88ea17d1ff6fb26"
  },
  {
   "cell_type": "code",
   "execution_count": 6,
   "outputs": [
    {
     "data": {
      "text/plain": "array([[-0.53209541,  0.48584036, -0.52629135, -0.83192326],\n       [ 0.09494378, -0.44720771, -0.00110969, -0.04413366],\n       [ 0.43715163, -0.03863265,  0.52740105,  0.87605692]])"
     },
     "execution_count": 6,
     "metadata": {},
     "output_type": "execute_result"
    }
   ],
   "source": [
    "model.coef_\n",
    "# 0は、virginiaの式の系数\n",
    "# 1は、versicolorの式の系数\n",
    "# 2は、setonaの式の系数"
   ],
   "metadata": {
    "collapsed": false,
    "ExecuteTime": {
     "end_time": "2023-09-17T07:57:10.192401Z",
     "start_time": "2023-09-17T07:57:10.127041Z"
    }
   },
   "id": "bbebcd093c92eccb"
  },
  {
   "cell_type": "code",
   "execution_count": 7,
   "outputs": [
    {
     "data": {
      "text/plain": "array(['Iris-virginica'], dtype=object)"
     },
     "execution_count": 7,
     "metadata": {},
     "output_type": "execute_result"
    }
   ],
   "source": [
    "x_new = [[1, 2, 3, 4]]  # 新規データ\n",
    "model.predict(x_new)"
   ],
   "metadata": {
    "collapsed": false,
    "ExecuteTime": {
     "end_time": "2023-09-17T07:57:10.192563Z",
     "start_time": "2023-09-17T07:57:10.129285Z"
    }
   },
   "id": "a2fa5a09a3e49572"
  },
  {
   "cell_type": "code",
   "execution_count": 8,
   "outputs": [
    {
     "data": {
      "text/plain": "array([[4.03394997e-05, 3.02965489e-03, 9.96930006e-01]])"
     },
     "execution_count": 8,
     "metadata": {},
     "output_type": "execute_result"
    }
   ],
   "source": [
    "# 確率による予測結果をみる\n",
    "model.predict_proba(x_new)"
   ],
   "metadata": {
    "collapsed": false,
    "ExecuteTime": {
     "end_time": "2023-09-17T07:57:10.192659Z",
     "start_time": "2023-09-17T07:57:10.132789Z"
    }
   },
   "id": "79c26542ad0890d3"
  },
  {
   "cell_type": "markdown",
   "source": [
    "## 12.2 ランダムフォレスト"
   ],
   "metadata": {
    "collapsed": false
   },
   "id": "443d37d82d80688"
  },
  {
   "cell_type": "code",
   "execution_count": 9,
   "outputs": [
    {
     "data": {
      "text/plain": "     PassengerId  Survived  Pclass     Sex   Age  SibSp  Parch  \\\n0              1         0       3    male  22.0      1      0   \n1              2         1       1  female  38.0      1      0   \n2              3         1       3  female  26.0      0      0   \n3              4         1       1  female  35.0      1      0   \n4              5         0       3    male  35.0      0      0   \n..           ...       ...     ...     ...   ...    ...    ...   \n886          887         0       2    male  27.0      0      0   \n887          888         1       1  female  19.0      0      0   \n888          889         0       3  female   NaN      1      2   \n889          890         1       1    male  26.0      0      0   \n890          891         0       3    male  32.0      0      0   \n\n               Ticket     Fare Cabin Embarked  \n0           A/5 21171   7.2500   NaN        S  \n1            PC 17599  71.2833   C85        C  \n2    STON/O2. 3101282   7.9250   NaN        S  \n3              113803  53.1000  C123        S  \n4              373450   8.0500   NaN        S  \n..                ...      ...   ...      ...  \n886            211536  13.0000   NaN        S  \n887            112053  30.0000   B42        S  \n888        W./C. 6607  23.4500   NaN        S  \n889            111369  30.0000  C148        C  \n890            370376   7.7500   NaN        Q  \n\n[891 rows x 11 columns]",
      "text/html": "<div>\n<style scoped>\n    .dataframe tbody tr th:only-of-type {\n        vertical-align: middle;\n    }\n\n    .dataframe tbody tr th {\n        vertical-align: top;\n    }\n\n    .dataframe thead th {\n        text-align: right;\n    }\n</style>\n<table border=\"1\" class=\"dataframe\">\n  <thead>\n    <tr style=\"text-align: right;\">\n      <th></th>\n      <th>PassengerId</th>\n      <th>Survived</th>\n      <th>Pclass</th>\n      <th>Sex</th>\n      <th>Age</th>\n      <th>SibSp</th>\n      <th>Parch</th>\n      <th>Ticket</th>\n      <th>Fare</th>\n      <th>Cabin</th>\n      <th>Embarked</th>\n    </tr>\n  </thead>\n  <tbody>\n    <tr>\n      <th>0</th>\n      <td>1</td>\n      <td>0</td>\n      <td>3</td>\n      <td>male</td>\n      <td>22.0</td>\n      <td>1</td>\n      <td>0</td>\n      <td>A/5 21171</td>\n      <td>7.2500</td>\n      <td>NaN</td>\n      <td>S</td>\n    </tr>\n    <tr>\n      <th>1</th>\n      <td>2</td>\n      <td>1</td>\n      <td>1</td>\n      <td>female</td>\n      <td>38.0</td>\n      <td>1</td>\n      <td>0</td>\n      <td>PC 17599</td>\n      <td>71.2833</td>\n      <td>C85</td>\n      <td>C</td>\n    </tr>\n    <tr>\n      <th>2</th>\n      <td>3</td>\n      <td>1</td>\n      <td>3</td>\n      <td>female</td>\n      <td>26.0</td>\n      <td>0</td>\n      <td>0</td>\n      <td>STON/O2. 3101282</td>\n      <td>7.9250</td>\n      <td>NaN</td>\n      <td>S</td>\n    </tr>\n    <tr>\n      <th>3</th>\n      <td>4</td>\n      <td>1</td>\n      <td>1</td>\n      <td>female</td>\n      <td>35.0</td>\n      <td>1</td>\n      <td>0</td>\n      <td>113803</td>\n      <td>53.1000</td>\n      <td>C123</td>\n      <td>S</td>\n    </tr>\n    <tr>\n      <th>4</th>\n      <td>5</td>\n      <td>0</td>\n      <td>3</td>\n      <td>male</td>\n      <td>35.0</td>\n      <td>0</td>\n      <td>0</td>\n      <td>373450</td>\n      <td>8.0500</td>\n      <td>NaN</td>\n      <td>S</td>\n    </tr>\n    <tr>\n      <th>...</th>\n      <td>...</td>\n      <td>...</td>\n      <td>...</td>\n      <td>...</td>\n      <td>...</td>\n      <td>...</td>\n      <td>...</td>\n      <td>...</td>\n      <td>...</td>\n      <td>...</td>\n      <td>...</td>\n    </tr>\n    <tr>\n      <th>886</th>\n      <td>887</td>\n      <td>0</td>\n      <td>2</td>\n      <td>male</td>\n      <td>27.0</td>\n      <td>0</td>\n      <td>0</td>\n      <td>211536</td>\n      <td>13.0000</td>\n      <td>NaN</td>\n      <td>S</td>\n    </tr>\n    <tr>\n      <th>887</th>\n      <td>888</td>\n      <td>1</td>\n      <td>1</td>\n      <td>female</td>\n      <td>19.0</td>\n      <td>0</td>\n      <td>0</td>\n      <td>112053</td>\n      <td>30.0000</td>\n      <td>B42</td>\n      <td>S</td>\n    </tr>\n    <tr>\n      <th>888</th>\n      <td>889</td>\n      <td>0</td>\n      <td>3</td>\n      <td>female</td>\n      <td>NaN</td>\n      <td>1</td>\n      <td>2</td>\n      <td>W./C. 6607</td>\n      <td>23.4500</td>\n      <td>NaN</td>\n      <td>S</td>\n    </tr>\n    <tr>\n      <th>889</th>\n      <td>890</td>\n      <td>1</td>\n      <td>1</td>\n      <td>male</td>\n      <td>26.0</td>\n      <td>0</td>\n      <td>0</td>\n      <td>111369</td>\n      <td>30.0000</td>\n      <td>C148</td>\n      <td>C</td>\n    </tr>\n    <tr>\n      <th>890</th>\n      <td>891</td>\n      <td>0</td>\n      <td>3</td>\n      <td>male</td>\n      <td>32.0</td>\n      <td>0</td>\n      <td>0</td>\n      <td>370376</td>\n      <td>7.7500</td>\n      <td>NaN</td>\n      <td>Q</td>\n    </tr>\n  </tbody>\n</table>\n<p>891 rows × 11 columns</p>\n</div>"
     },
     "execution_count": 9,
     "metadata": {},
     "output_type": "execute_result"
    }
   ],
   "source": [
    "import pandas as pd\n",
    "from sklearn.model_selection import train_test_split\n",
    "%matplotlib inline\n",
    "\n",
    "df = pd.read_csv(\"data/Survived.csv\")\n",
    "df"
   ],
   "metadata": {
    "collapsed": false,
    "ExecuteTime": {
     "end_time": "2023-09-17T07:57:10.583125Z",
     "start_time": "2023-09-17T07:57:10.136118Z"
    }
   },
   "id": "52ca123e0709d84b"
  },
  {
   "cell_type": "code",
   "execution_count": 10,
   "outputs": [],
   "source": [
    "jo1 = df['Pclass'] == 1\n",
    "jo2 = df[\"Survived\"] == 0\n",
    "jo3 = df[\"Age\"].isnull()\n",
    "df.loc[(jo1) & (jo2) & (jo3), \"Age\"] = 43\n",
    "\n",
    "jo2 = df[\"Survived\"] == 1\n",
    "df.loc[(jo1) & (jo2) & (jo3), \"Age\"] = 35\n",
    "\n",
    "jo1 = df['Pclass'] == 2\n",
    "jo2 = df[\"Survived\"] == 0\n",
    "jo3 = df[\"Age\"].isnull()\n",
    "df.loc[(jo1) & (jo2) & (jo3), \"Age\"] = 26\n",
    "\n",
    "jo2 = df[\"Survived\"] == 1\n",
    "df.loc[(jo1) & (jo2) & (jo3), \"Age\"] = 20\n",
    "\n",
    "jo1 = df['Pclass'] == 3\n",
    "jo2 = df[\"Survived\"] == 0\n",
    "jo3 = df[\"Age\"].isnull()\n",
    "df.loc[(jo1) & (jo2) & (jo3), \"Age\"] = 43\n",
    "\n",
    "jo2 = df[\"Survived\"] == 1\n",
    "df.loc[(jo1) & (jo2) & (jo3), \"Age\"] = 35"
   ],
   "metadata": {
    "collapsed": false,
    "ExecuteTime": {
     "end_time": "2023-09-17T07:57:10.587637Z",
     "start_time": "2023-09-17T07:57:10.583343Z"
    }
   },
   "id": "dbacc18246044852"
  },
  {
   "cell_type": "code",
   "execution_count": 11,
   "outputs": [
    {
     "data": {
      "text/plain": "   Pclass   Age  SibSp  Parch     Fare  male\n0       3  22.0      1      0   7.2500     1\n1       1  38.0      1      0  71.2833     0\n2       3  26.0      0      0   7.9250     0\n3       1  35.0      1      0  53.1000     0\n4       3  35.0      0      0   8.0500     1",
      "text/html": "<div>\n<style scoped>\n    .dataframe tbody tr th:only-of-type {\n        vertical-align: middle;\n    }\n\n    .dataframe tbody tr th {\n        vertical-align: top;\n    }\n\n    .dataframe thead th {\n        text-align: right;\n    }\n</style>\n<table border=\"1\" class=\"dataframe\">\n  <thead>\n    <tr style=\"text-align: right;\">\n      <th></th>\n      <th>Pclass</th>\n      <th>Age</th>\n      <th>SibSp</th>\n      <th>Parch</th>\n      <th>Fare</th>\n      <th>male</th>\n    </tr>\n  </thead>\n  <tbody>\n    <tr>\n      <th>0</th>\n      <td>3</td>\n      <td>22.0</td>\n      <td>1</td>\n      <td>0</td>\n      <td>7.2500</td>\n      <td>1</td>\n    </tr>\n    <tr>\n      <th>1</th>\n      <td>1</td>\n      <td>38.0</td>\n      <td>1</td>\n      <td>0</td>\n      <td>71.2833</td>\n      <td>0</td>\n    </tr>\n    <tr>\n      <th>2</th>\n      <td>3</td>\n      <td>26.0</td>\n      <td>0</td>\n      <td>0</td>\n      <td>7.9250</td>\n      <td>0</td>\n    </tr>\n    <tr>\n      <th>3</th>\n      <td>1</td>\n      <td>35.0</td>\n      <td>1</td>\n      <td>0</td>\n      <td>53.1000</td>\n      <td>0</td>\n    </tr>\n    <tr>\n      <th>4</th>\n      <td>3</td>\n      <td>35.0</td>\n      <td>0</td>\n      <td>0</td>\n      <td>8.0500</td>\n      <td>1</td>\n    </tr>\n  </tbody>\n</table>\n</div>"
     },
     "execution_count": 11,
     "metadata": {},
     "output_type": "execute_result"
    }
   ],
   "source": [
    "col = [\"Pclass\", \"Age\", \"SibSp\", \"Parch\", \"Fare\"]\n",
    "\n",
    "x = df[col]\n",
    "t = df[\"Survived\"]\n",
    "\n",
    "# Sex列は文字の列なので、ダミー変数化\n",
    "dummy = pd.get_dummies(df[\"Sex\"], drop_first=True, dtype=\"uint8\")\n",
    "x = pd.concat([x, dummy], axis=1)\n",
    "x.head()"
   ],
   "metadata": {
    "collapsed": false,
    "ExecuteTime": {
     "end_time": "2023-09-17T07:57:10.598110Z",
     "start_time": "2023-09-17T07:57:10.592123Z"
    }
   },
   "id": "1a37b514b164718"
  },
  {
   "cell_type": "code",
   "execution_count": 12,
   "outputs": [],
   "source": [
    "from sklearn.ensemble import RandomForestClassifier\n",
    "\n",
    "x_train, x_test, y_train, y_test = train_test_split(x, t, test_size=0.2, random_state=0)\n",
    "model = RandomForestClassifier(n_estimators=200, random_state=0)"
   ],
   "metadata": {
    "collapsed": false,
    "ExecuteTime": {
     "end_time": "2023-09-17T07:57:10.701036Z",
     "start_time": "2023-09-17T07:57:10.596683Z"
    }
   },
   "id": "777bf6a1da4596"
  },
  {
   "cell_type": "code",
   "execution_count": 13,
   "outputs": [
    {
     "name": "stdout",
     "output_type": "stream",
     "text": [
      "0.9887640449438202\n",
      "0.8715083798882681\n"
     ]
    }
   ],
   "source": [
    "model.fit(x_train, y_train)\n",
    "\n",
    "print(model.score(x_train, y_train))\n",
    "print(model.score(x_test, y_test))"
   ],
   "metadata": {
    "collapsed": false,
    "ExecuteTime": {
     "end_time": "2023-09-17T07:57:10.831990Z",
     "start_time": "2023-09-17T07:57:10.667705Z"
    }
   },
   "id": "f6d5f1aeddf4e769"
  },
  {
   "cell_type": "code",
   "execution_count": 14,
   "outputs": [
    {
     "name": "stdout",
     "output_type": "stream",
     "text": [
      "0.9887640449438202\n",
      "0.8156424581005587\n"
     ]
    }
   ],
   "source": [
    "from sklearn import tree\n",
    "\n",
    "model2 = tree.DecisionTreeClassifier(random_state=0)\n",
    "model2.fit(x_train, y_train)\n",
    "\n",
    "print(model2.score(x_train, y_train))\n",
    "print(model2.score(x_test, y_test))"
   ],
   "metadata": {
    "collapsed": false,
    "ExecuteTime": {
     "end_time": "2023-09-17T07:57:10.841220Z",
     "start_time": "2023-09-17T07:57:10.832955Z"
    }
   },
   "id": "3b4f0f30c05cbe92"
  },
  {
   "cell_type": "code",
   "execution_count": 15,
   "outputs": [
    {
     "data": {
      "text/plain": "Pclass    0.079546\nAge       0.323012\nSibSp     0.045682\nParch     0.032854\nFare      0.265573\nmale      0.253334\ndtype: float64"
     },
     "execution_count": 15,
     "metadata": {},
     "output_type": "execute_result"
    }
   ],
   "source": [
    "importance = model.feature_importances_\n",
    "pd.Series(importance, index=x.columns)"
   ],
   "metadata": {
    "collapsed": false,
    "ExecuteTime": {
     "end_time": "2023-09-17T07:57:10.845704Z",
     "start_time": "2023-09-17T07:57:10.839859Z"
    }
   },
   "id": "5acf21b7d70b2e5"
  },
  {
   "cell_type": "markdown",
   "source": [
    "## 12.3 アダブースト"
   ],
   "metadata": {
    "collapsed": false
   },
   "id": "114013cfc298d7"
  },
  {
   "cell_type": "code",
   "execution_count": 16,
   "outputs": [
    {
     "name": "stderr",
     "output_type": "stream",
     "text": [
      "/Users/hiroaki/dev/learn/python/learn-sukkiri-ml/venv/lib/python3.9/site-packages/sklearn/ensemble/_base.py:156: FutureWarning: `base_estimator` was renamed to `estimator` in version 1.2 and will be removed in 1.4.\n",
      "  warnings.warn(\n"
     ]
    },
    {
     "name": "stdout",
     "output_type": "stream",
     "text": [
      "0.9887640449438202\n",
      "0.8156424581005587\n"
     ]
    }
   ],
   "source": [
    "from sklearn.ensemble import AdaBoostClassifier\n",
    "from sklearn.tree import DecisionTreeClassifier\n",
    "\n",
    "x_train, x_test, y_train, y_test = train_test_split(x, t, test_size=0.2, random_state=0)\n",
    "\n",
    "# 最大の深さ５の決定木を何個も作っていく\n",
    "base_model = DecisionTreeClassifier(random_state=0, max_depth=5)\n",
    "# 決定木を500個作成\n",
    "model = AdaBoostClassifier(n_estimators=500, random_state=0, base_estimator=base_model)\n",
    "model.fit(x_train, y_train)\n",
    "\n",
    "print(model.score(x_train, y_train))\n",
    "print(model.score(x_test, y_test))\n"
   ],
   "metadata": {
    "collapsed": false,
    "ExecuteTime": {
     "end_time": "2023-09-17T07:57:11.456238Z",
     "start_time": "2023-09-17T07:57:10.847704Z"
    }
   },
   "id": "770b119dcbe03503"
  },
  {
   "cell_type": "code",
   "execution_count": 17,
   "outputs": [
    {
     "data": {
      "text/plain": "0.5563347234627347"
     },
     "execution_count": 17,
     "metadata": {},
     "output_type": "execute_result"
    }
   ],
   "source": [
    "# ランダムフォレストやアダブーストで回帰\n",
    "\n",
    "df = pd.read_csv(\"data/cinema.csv\")\n",
    "df = df.fillna(df.mean())\n",
    "x = df.loc[:, \"SNS1\":\"original\"]\n",
    "t = df[\"sales\"]\n",
    "\n",
    "x_train, x_test, y_train, y_test = train_test_split(x, t, test_size=0.2, random_state=0)\n",
    "\n",
    "# ランダムフォレスト回帰\n",
    "from sklearn.ensemble import RandomForestRegressor\n",
    "\n",
    "model = RandomForestRegressor(n_estimators=100, random_state=0)\n",
    "model.fit(x_train, y_train)\n",
    "model.score(x_test, y_test)"
   ],
   "metadata": {
    "collapsed": false,
    "ExecuteTime": {
     "end_time": "2023-09-17T07:57:11.545574Z",
     "start_time": "2023-09-17T07:57:11.441848Z"
    }
   },
   "id": "aa35bf2790fd7b3d"
  },
  {
   "cell_type": "code",
   "execution_count": 18,
   "outputs": [
    {
     "name": "stderr",
     "output_type": "stream",
     "text": [
      "/Users/hiroaki/dev/learn/python/learn-sukkiri-ml/venv/lib/python3.9/site-packages/sklearn/ensemble/_base.py:156: FutureWarning: `base_estimator` was renamed to `estimator` in version 1.2 and will be removed in 1.4.\n",
      "  warnings.warn(\n"
     ]
    },
    {
     "data": {
      "text/plain": "0.6748482902800903"
     },
     "execution_count": 18,
     "metadata": {},
     "output_type": "execute_result"
    }
   ],
   "source": [
    "# アダブースト回帰\n",
    "from sklearn.ensemble import AdaBoostRegressor\n",
    "from sklearn.tree import DecisionTreeRegressor\n",
    "\n",
    "base = DecisionTreeRegressor(random_state=0, max_depth=3)\n",
    "model = AdaBoostRegressor(n_estimators=100, random_state=0, base_estimator=base)\n",
    "model.fit(x_train, y_train)\n",
    "model.score(x_test, y_test)"
   ],
   "metadata": {
    "collapsed": false,
    "ExecuteTime": {
     "end_time": "2023-09-17T07:57:11.549678Z",
     "start_time": "2023-09-17T07:57:11.481426Z"
    }
   },
   "id": "c3065d80c94e3d59"
  }
 ],
 "metadata": {
  "kernelspec": {
   "display_name": "Python 3",
   "language": "python",
   "name": "python3"
  },
  "language_info": {
   "codemirror_mode": {
    "name": "ipython",
    "version": 2
   },
   "file_extension": ".py",
   "mimetype": "text/x-python",
   "name": "python",
   "nbconvert_exporter": "python",
   "pygments_lexer": "ipython2",
   "version": "2.7.6"
  }
 },
 "nbformat": 4,
 "nbformat_minor": 5
}
