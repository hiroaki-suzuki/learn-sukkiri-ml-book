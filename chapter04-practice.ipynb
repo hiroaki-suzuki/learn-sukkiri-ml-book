{
 "cells": [
  {
   "cell_type": "markdown",
   "source": [
    "## 練習 4-1"
   ],
   "metadata": {
    "collapsed": false
   },
   "id": "13437f0dd46f2430"
  },
  {
   "cell_type": "code",
   "execution_count": 1,
   "id": "initial_id",
   "metadata": {
    "collapsed": true,
    "ExecuteTime": {
     "end_time": "2023-09-14T13:45:13.138861Z",
     "start_time": "2023-09-14T13:45:12.594164Z"
    }
   },
   "outputs": [
    {
     "data": {
      "text/plain": "   データベースの試験得点  ネットワークの試験得点\n0           70           80\n1           72           85\n2           75           79\n3           80           92",
      "text/html": "<div>\n<style scoped>\n    .dataframe tbody tr th:only-of-type {\n        vertical-align: middle;\n    }\n\n    .dataframe tbody tr th {\n        vertical-align: top;\n    }\n\n    .dataframe thead th {\n        text-align: right;\n    }\n</style>\n<table border=\"1\" class=\"dataframe\">\n  <thead>\n    <tr style=\"text-align: right;\">\n      <th></th>\n      <th>データベースの試験得点</th>\n      <th>ネットワークの試験得点</th>\n    </tr>\n  </thead>\n  <tbody>\n    <tr>\n      <th>0</th>\n      <td>70</td>\n      <td>80</td>\n    </tr>\n    <tr>\n      <th>1</th>\n      <td>72</td>\n      <td>85</td>\n    </tr>\n    <tr>\n      <th>2</th>\n      <td>75</td>\n      <td>79</td>\n    </tr>\n    <tr>\n      <th>3</th>\n      <td>80</td>\n      <td>92</td>\n    </tr>\n  </tbody>\n</table>\n</div>"
     },
     "execution_count": 1,
     "metadata": {},
     "output_type": "execute_result"
    }
   ],
   "source": [
    "import pandas as pd\n",
    "\n",
    "data = {\n",
    "    'データベースの試験得点': [70, 72, 75, 80],\n",
    "    'ネットワークの試験得点': [80, 85, 79, 92]\n",
    "}\n",
    "df = pd.DataFrame(data)\n",
    "df"
   ]
  },
  {
   "cell_type": "markdown",
   "source": [
    "## 練習 4-2"
   ],
   "metadata": {
    "collapsed": false
   },
   "id": "c1b202f2ed7ea21"
  },
  {
   "cell_type": "code",
   "execution_count": 2,
   "outputs": [
    {
     "data": {
      "text/plain": "    データベースの試験得点  ネットワークの試験得点\n一郎           70           80\n次郎           72           85\n三郎           75           79\n太郎           80           92",
      "text/html": "<div>\n<style scoped>\n    .dataframe tbody tr th:only-of-type {\n        vertical-align: middle;\n    }\n\n    .dataframe tbody tr th {\n        vertical-align: top;\n    }\n\n    .dataframe thead th {\n        text-align: right;\n    }\n</style>\n<table border=\"1\" class=\"dataframe\">\n  <thead>\n    <tr style=\"text-align: right;\">\n      <th></th>\n      <th>データベースの試験得点</th>\n      <th>ネットワークの試験得点</th>\n    </tr>\n  </thead>\n  <tbody>\n    <tr>\n      <th>一郎</th>\n      <td>70</td>\n      <td>80</td>\n    </tr>\n    <tr>\n      <th>次郎</th>\n      <td>72</td>\n      <td>85</td>\n    </tr>\n    <tr>\n      <th>三郎</th>\n      <td>75</td>\n      <td>79</td>\n    </tr>\n    <tr>\n      <th>太郎</th>\n      <td>80</td>\n      <td>92</td>\n    </tr>\n  </tbody>\n</table>\n</div>"
     },
     "execution_count": 2,
     "metadata": {},
     "output_type": "execute_result"
    }
   ],
   "source": [
    "df.index = ['一郎', '次郎', '三郎', '太郎']\n",
    "df"
   ],
   "metadata": {
    "collapsed": false,
    "ExecuteTime": {
     "end_time": "2023-09-14T13:45:44.353048Z",
     "start_time": "2023-09-14T13:45:44.287517Z"
    }
   },
   "id": "d8115f034d62d6d5"
  },
  {
   "cell_type": "code",
   "execution_count": 3,
   "outputs": [
    {
     "data": {
      "text/plain": "          x0        x1        x2        x3  target\n0   4.831144  4.695477  5.082239  4.501977       0\n1   1.460716  1.216714  7.632439  2.359443       0\n2   4.011018  4.515939  5.935904  5.981296       1\n3   5.982382  4.965863  3.890340  2.480491       0\n4   5.439188  5.911560  4.827872  6.653825       1\n..       ...       ...       ...       ...     ...\n95  4.343917  5.549315  5.925124  8.262054       1\n96  5.612101  5.065338  4.338867  3.689948       0\n97  3.375022  4.196423  6.534891  6.587676       1\n98  4.069721  4.556587  5.884516  5.958792       1\n99  4.079704  3.939691  5.657731  4.083713       0\n\n[100 rows x 5 columns]",
      "text/html": "<div>\n<style scoped>\n    .dataframe tbody tr th:only-of-type {\n        vertical-align: middle;\n    }\n\n    .dataframe tbody tr th {\n        vertical-align: top;\n    }\n\n    .dataframe thead th {\n        text-align: right;\n    }\n</style>\n<table border=\"1\" class=\"dataframe\">\n  <thead>\n    <tr style=\"text-align: right;\">\n      <th></th>\n      <th>x0</th>\n      <th>x1</th>\n      <th>x2</th>\n      <th>x3</th>\n      <th>target</th>\n    </tr>\n  </thead>\n  <tbody>\n    <tr>\n      <th>0</th>\n      <td>4.831144</td>\n      <td>4.695477</td>\n      <td>5.082239</td>\n      <td>4.501977</td>\n      <td>0</td>\n    </tr>\n    <tr>\n      <th>1</th>\n      <td>1.460716</td>\n      <td>1.216714</td>\n      <td>7.632439</td>\n      <td>2.359443</td>\n      <td>0</td>\n    </tr>\n    <tr>\n      <th>2</th>\n      <td>4.011018</td>\n      <td>4.515939</td>\n      <td>5.935904</td>\n      <td>5.981296</td>\n      <td>1</td>\n    </tr>\n    <tr>\n      <th>3</th>\n      <td>5.982382</td>\n      <td>4.965863</td>\n      <td>3.890340</td>\n      <td>2.480491</td>\n      <td>0</td>\n    </tr>\n    <tr>\n      <th>4</th>\n      <td>5.439188</td>\n      <td>5.911560</td>\n      <td>4.827872</td>\n      <td>6.653825</td>\n      <td>1</td>\n    </tr>\n    <tr>\n      <th>...</th>\n      <td>...</td>\n      <td>...</td>\n      <td>...</td>\n      <td>...</td>\n      <td>...</td>\n    </tr>\n    <tr>\n      <th>95</th>\n      <td>4.343917</td>\n      <td>5.549315</td>\n      <td>5.925124</td>\n      <td>8.262054</td>\n      <td>1</td>\n    </tr>\n    <tr>\n      <th>96</th>\n      <td>5.612101</td>\n      <td>5.065338</td>\n      <td>4.338867</td>\n      <td>3.689948</td>\n      <td>0</td>\n    </tr>\n    <tr>\n      <th>97</th>\n      <td>3.375022</td>\n      <td>4.196423</td>\n      <td>6.534891</td>\n      <td>6.587676</td>\n      <td>1</td>\n    </tr>\n    <tr>\n      <th>98</th>\n      <td>4.069721</td>\n      <td>4.556587</td>\n      <td>5.884516</td>\n      <td>5.958792</td>\n      <td>1</td>\n    </tr>\n    <tr>\n      <th>99</th>\n      <td>4.079704</td>\n      <td>3.939691</td>\n      <td>5.657731</td>\n      <td>4.083713</td>\n      <td>0</td>\n    </tr>\n  </tbody>\n</table>\n<p>100 rows × 5 columns</p>\n</div>"
     },
     "execution_count": 3,
     "metadata": {},
     "output_type": "execute_result"
    }
   ],
   "source": [
    "## 練習 4-3\n",
    "df = pd.read_csv('./data/ex1.csv')\n",
    "df"
   ],
   "metadata": {
    "collapsed": false,
    "ExecuteTime": {
     "end_time": "2023-09-14T13:46:06.486871Z",
     "start_time": "2023-09-14T13:46:06.460243Z"
    }
   },
   "id": "9e5d1bf70a0fcfee"
  },
  {
   "cell_type": "code",
   "execution_count": 4,
   "outputs": [
    {
     "data": {
      "text/plain": "Index([ 0,  1,  2,  3,  4,  5,  6,  7,  8,  9, 10, 11, 12, 13, 14, 15, 16, 17,\n       18, 19, 20, 21, 22, 23, 24, 25, 26, 27, 28, 29, 30, 31, 32, 33, 34, 35,\n       36, 37, 38, 39, 40, 41, 42, 43, 44, 45, 46, 47, 48, 49, 50, 51, 52, 53,\n       54, 55, 56, 57, 58, 59, 60, 61, 62, 63, 64, 65, 66, 67, 68, 69, 70, 71,\n       72, 73, 74, 75, 76, 77, 78, 79, 80, 81, 82, 83, 84, 85, 86, 87, 88, 89,\n       90, 91, 92, 93, 94, 95, 96, 97, 98, 99],\n      dtype='int64')"
     },
     "execution_count": 4,
     "metadata": {},
     "output_type": "execute_result"
    }
   ],
   "source": [
    "## 練習 4-4\n",
    "df.index"
   ],
   "metadata": {
    "collapsed": false,
    "ExecuteTime": {
     "end_time": "2023-09-14T14:01:43.693297Z",
     "start_time": "2023-09-14T14:01:43.666472Z"
    }
   },
   "id": "605e7b4be3ca9b9f"
  },
  {
   "cell_type": "code",
   "execution_count": 6,
   "outputs": [
    {
     "data": {
      "text/plain": "Index(['x0', 'x1', 'x2', 'x3', 'target'], dtype='object')"
     },
     "execution_count": 6,
     "metadata": {},
     "output_type": "execute_result"
    }
   ],
   "source": [
    "## 練習 4-5\n",
    "df.columns"
   ],
   "metadata": {
    "collapsed": false,
    "ExecuteTime": {
     "end_time": "2023-09-08T08:02:34.020949Z",
     "start_time": "2023-09-08T08:02:33.997570Z"
    }
   },
   "id": "106e14bdf1128d54"
  },
  {
   "cell_type": "code",
   "execution_count": 6,
   "outputs": [
    {
     "data": {
      "text/plain": "          x0        x2\n0   4.831144  5.082239\n1   1.460716  7.632439\n2   4.011018  5.935904\n3   5.982382  3.890340\n4   5.439188  4.827872\n..       ...       ...\n95  4.343917  5.925124\n96  5.612101  4.338867\n97  3.375022  6.534891\n98  4.069721  5.884516\n99  4.079704  5.657731\n\n[100 rows x 2 columns]",
      "text/html": "<div>\n<style scoped>\n    .dataframe tbody tr th:only-of-type {\n        vertical-align: middle;\n    }\n\n    .dataframe tbody tr th {\n        vertical-align: top;\n    }\n\n    .dataframe thead th {\n        text-align: right;\n    }\n</style>\n<table border=\"1\" class=\"dataframe\">\n  <thead>\n    <tr style=\"text-align: right;\">\n      <th></th>\n      <th>x0</th>\n      <th>x2</th>\n    </tr>\n  </thead>\n  <tbody>\n    <tr>\n      <th>0</th>\n      <td>4.831144</td>\n      <td>5.082239</td>\n    </tr>\n    <tr>\n      <th>1</th>\n      <td>1.460716</td>\n      <td>7.632439</td>\n    </tr>\n    <tr>\n      <th>2</th>\n      <td>4.011018</td>\n      <td>5.935904</td>\n    </tr>\n    <tr>\n      <th>3</th>\n      <td>5.982382</td>\n      <td>3.890340</td>\n    </tr>\n    <tr>\n      <th>4</th>\n      <td>5.439188</td>\n      <td>4.827872</td>\n    </tr>\n    <tr>\n      <th>...</th>\n      <td>...</td>\n      <td>...</td>\n    </tr>\n    <tr>\n      <th>95</th>\n      <td>4.343917</td>\n      <td>5.925124</td>\n    </tr>\n    <tr>\n      <th>96</th>\n      <td>5.612101</td>\n      <td>4.338867</td>\n    </tr>\n    <tr>\n      <th>97</th>\n      <td>3.375022</td>\n      <td>6.534891</td>\n    </tr>\n    <tr>\n      <th>98</th>\n      <td>4.069721</td>\n      <td>5.884516</td>\n    </tr>\n    <tr>\n      <th>99</th>\n      <td>4.079704</td>\n      <td>5.657731</td>\n    </tr>\n  </tbody>\n</table>\n<p>100 rows × 2 columns</p>\n</div>"
     },
     "execution_count": 6,
     "metadata": {},
     "output_type": "execute_result"
    }
   ],
   "source": [
    "## 練習 4-6\n",
    "df[['x0', 'x2']]"
   ],
   "metadata": {
    "collapsed": false,
    "ExecuteTime": {
     "end_time": "2023-09-14T14:01:57.237090Z",
     "start_time": "2023-09-14T14:01:57.221457Z"
    }
   },
   "id": "1a2594729a7911be"
  }
 ],
 "metadata": {
  "kernelspec": {
   "display_name": "Python 3",
   "language": "python",
   "name": "python3"
  },
  "language_info": {
   "codemirror_mode": {
    "name": "ipython",
    "version": 2
   },
   "file_extension": ".py",
   "mimetype": "text/x-python",
   "name": "python",
   "nbconvert_exporter": "python",
   "pygments_lexer": "ipython2",
   "version": "2.7.6"
  }
 },
 "nbformat": 4,
 "nbformat_minor": 5
}
