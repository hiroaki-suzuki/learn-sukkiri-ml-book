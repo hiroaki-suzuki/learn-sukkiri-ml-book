{
 "cells": [
  {
   "cell_type": "code",
   "execution_count": 1,
   "id": "initial_id",
   "metadata": {
    "collapsed": true,
    "ExecuteTime": {
     "end_time": "2023-09-14T10:10:46.469376Z",
     "start_time": "2023-09-14T10:10:44.747185Z"
    }
   },
   "outputs": [
    {
     "data": {
      "text/plain": "   松田の労働時間  浅木の労働時間\n0      160      161\n1      160      175",
      "text/html": "<div>\n<style scoped>\n    .dataframe tbody tr th:only-of-type {\n        vertical-align: middle;\n    }\n\n    .dataframe tbody tr th {\n        vertical-align: top;\n    }\n\n    .dataframe thead th {\n        text-align: right;\n    }\n</style>\n<table border=\"1\" class=\"dataframe\">\n  <thead>\n    <tr style=\"text-align: right;\">\n      <th></th>\n      <th>松田の労働時間</th>\n      <th>浅木の労働時間</th>\n    </tr>\n  </thead>\n  <tbody>\n    <tr>\n      <th>0</th>\n      <td>160</td>\n      <td>161</td>\n    </tr>\n    <tr>\n      <th>1</th>\n      <td>160</td>\n      <td>175</td>\n    </tr>\n  </tbody>\n</table>\n</div>"
     },
     "execution_count": 1,
     "metadata": {},
     "output_type": "execute_result"
    }
   ],
   "source": [
    "import pandas as pd\n",
    "\n",
    "data = {\n",
    "    '松田の労働時間': [160, 160],\n",
    "    '浅木の労働時間': [161, 175]\n",
    "}\n",
    "\n",
    "df = pd.DataFrame(data)\n",
    "df"
   ]
  },
  {
   "cell_type": "code",
   "execution_count": 3,
   "outputs": [
    {
     "name": "stdout",
     "output_type": "stream",
     "text": [
      "<class 'pandas.core.frame.DataFrame'>\n"
     ]
    },
    {
     "data": {
      "text/plain": "(2, 2)"
     },
     "execution_count": 3,
     "metadata": {},
     "output_type": "execute_result"
    }
   ],
   "source": [
    "print(type(df))\n",
    "\n",
    "# 行数や列数が入っている\n",
    "df.shape"
   ],
   "metadata": {
    "collapsed": false,
    "ExecuteTime": {
     "end_time": "2023-09-14T10:11:57.046776Z",
     "start_time": "2023-09-14T10:11:57.008640Z"
    }
   },
   "id": "e7e1575b8c467c36"
  },
  {
   "cell_type": "code",
   "execution_count": 5,
   "outputs": [
    {
     "data": {
      "text/plain": "    松田の労働時間  浅木の労働時間\n4月      160      161\n5月      160      175",
      "text/html": "<div>\n<style scoped>\n    .dataframe tbody tr th:only-of-type {\n        vertical-align: middle;\n    }\n\n    .dataframe tbody tr th {\n        vertical-align: top;\n    }\n\n    .dataframe thead th {\n        text-align: right;\n    }\n</style>\n<table border=\"1\" class=\"dataframe\">\n  <thead>\n    <tr style=\"text-align: right;\">\n      <th></th>\n      <th>松田の労働時間</th>\n      <th>浅木の労働時間</th>\n    </tr>\n  </thead>\n  <tbody>\n    <tr>\n      <th>4月</th>\n      <td>160</td>\n      <td>161</td>\n    </tr>\n    <tr>\n      <th>5月</th>\n      <td>160</td>\n      <td>175</td>\n    </tr>\n  </tbody>\n</table>\n</div>"
     },
     "execution_count": 5,
     "metadata": {},
     "output_type": "execute_result"
    }
   ],
   "source": [
    "# インデックスを変更する（行番号の部分）\n",
    "df.index = ['4月', '5月']\n",
    "df"
   ],
   "metadata": {
    "collapsed": false,
    "ExecuteTime": {
     "end_time": "2023-09-14T10:12:58.813033Z",
     "start_time": "2023-09-14T10:12:58.768094Z"
    }
   },
   "id": "5e0e8cfba7fe0bb9"
  },
  {
   "cell_type": "code",
   "execution_count": 6,
   "outputs": [
    {
     "data": {
      "text/plain": "    松田の労働(h)  浅木の労働(h)\n4月       160       161\n5月       160       175",
      "text/html": "<div>\n<style scoped>\n    .dataframe tbody tr th:only-of-type {\n        vertical-align: middle;\n    }\n\n    .dataframe tbody tr th {\n        vertical-align: top;\n    }\n\n    .dataframe thead th {\n        text-align: right;\n    }\n</style>\n<table border=\"1\" class=\"dataframe\">\n  <thead>\n    <tr style=\"text-align: right;\">\n      <th></th>\n      <th>松田の労働(h)</th>\n      <th>浅木の労働(h)</th>\n    </tr>\n  </thead>\n  <tbody>\n    <tr>\n      <th>4月</th>\n      <td>160</td>\n      <td>161</td>\n    </tr>\n    <tr>\n      <th>5月</th>\n      <td>160</td>\n      <td>175</td>\n    </tr>\n  </tbody>\n</table>\n</div>"
     },
     "execution_count": 6,
     "metadata": {},
     "output_type": "execute_result"
    }
   ],
   "source": [
    "# 列名を変更する\n",
    "df.columns = ['松田の労働(h)', '浅木の労働(h)']\n",
    "df"
   ],
   "metadata": {
    "collapsed": false,
    "ExecuteTime": {
     "end_time": "2023-09-14T10:13:34.259734Z",
     "start_time": "2023-09-14T10:13:34.230333Z"
    }
   },
   "id": "6f501df9edc0cddf"
  },
  {
   "cell_type": "code",
   "execution_count": 10,
   "outputs": [
    {
     "data": {
      "text/plain": "Index(['4月', '5月'], dtype='object')"
     },
     "execution_count": 10,
     "metadata": {},
     "output_type": "execute_result"
    }
   ],
   "source": [
    "# インデックスの参照\n",
    "df.index"
   ],
   "metadata": {
    "collapsed": false,
    "ExecuteTime": {
     "end_time": "2023-09-14T10:14:29.609432Z",
     "start_time": "2023-09-14T10:14:29.599396Z"
    }
   },
   "id": "e0d236bbdd842ada"
  },
  {
   "cell_type": "code",
   "execution_count": 11,
   "outputs": [
    {
     "data": {
      "text/plain": "Index(['松田の労働(h)', '浅木の労働(h)'], dtype='object')"
     },
     "execution_count": 11,
     "metadata": {},
     "output_type": "execute_result"
    }
   ],
   "source": [
    "# 列名の参照\n",
    "df.columns"
   ],
   "metadata": {
    "collapsed": false,
    "ExecuteTime": {
     "end_time": "2023-09-14T10:14:31.186481Z",
     "start_time": "2023-09-14T10:14:31.179291Z"
    }
   },
   "id": "24274f5a050a433d"
  },
  {
   "cell_type": "code",
   "execution_count": 12,
   "outputs": [
    {
     "data": {
      "text/plain": "    松田の労働  浅木の労働\n4月    160    161\n5月    160    175",
      "text/html": "<div>\n<style scoped>\n    .dataframe tbody tr th:only-of-type {\n        vertical-align: middle;\n    }\n\n    .dataframe tbody tr th {\n        vertical-align: top;\n    }\n\n    .dataframe thead th {\n        text-align: right;\n    }\n</style>\n<table border=\"1\" class=\"dataframe\">\n  <thead>\n    <tr style=\"text-align: right;\">\n      <th></th>\n      <th>松田の労働</th>\n      <th>浅木の労働</th>\n    </tr>\n  </thead>\n  <tbody>\n    <tr>\n      <th>4月</th>\n      <td>160</td>\n      <td>161</td>\n    </tr>\n    <tr>\n      <th>5月</th>\n      <td>160</td>\n      <td>175</td>\n    </tr>\n  </tbody>\n</table>\n</div>"
     },
     "execution_count": 12,
     "metadata": {},
     "output_type": "execute_result"
    }
   ],
   "source": [
    "data = [\n",
    "    [160, 161],\n",
    "    [160, 175]\n",
    "]\n",
    "\n",
    "df2 = pd.DataFrame(data, index=['4月', '5月'], columns=['松田の労働', '浅木の労働'])\n",
    "df2"
   ],
   "metadata": {
    "collapsed": false,
    "ExecuteTime": {
     "end_time": "2023-09-14T10:16:01.185509Z",
     "start_time": "2023-09-14T10:16:01.170292Z"
    }
   },
   "id": "b002930e062e9758"
  },
  {
   "cell_type": "code",
   "execution_count": 13,
   "outputs": [
    {
     "data": {
      "text/plain": "    身長  体重  年代    派閥\n0  170  60  10   きのこ\n1  172  65  20   きのこ\n2  170  60  30  たけのこ",
      "text/html": "<div>\n<style scoped>\n    .dataframe tbody tr th:only-of-type {\n        vertical-align: middle;\n    }\n\n    .dataframe tbody tr th {\n        vertical-align: top;\n    }\n\n    .dataframe thead th {\n        text-align: right;\n    }\n</style>\n<table border=\"1\" class=\"dataframe\">\n  <thead>\n    <tr style=\"text-align: right;\">\n      <th></th>\n      <th>身長</th>\n      <th>体重</th>\n      <th>年代</th>\n      <th>派閥</th>\n    </tr>\n  </thead>\n  <tbody>\n    <tr>\n      <th>0</th>\n      <td>170</td>\n      <td>60</td>\n      <td>10</td>\n      <td>きのこ</td>\n    </tr>\n    <tr>\n      <th>1</th>\n      <td>172</td>\n      <td>65</td>\n      <td>20</td>\n      <td>きのこ</td>\n    </tr>\n    <tr>\n      <th>2</th>\n      <td>170</td>\n      <td>60</td>\n      <td>30</td>\n      <td>たけのこ</td>\n    </tr>\n  </tbody>\n</table>\n</div>"
     },
     "execution_count": 13,
     "metadata": {},
     "output_type": "execute_result"
    }
   ],
   "source": [
    "df = pd.read_csv('data/KvsT.csv')\n",
    "df.head(3)"
   ],
   "metadata": {
    "collapsed": false,
    "ExecuteTime": {
     "end_time": "2023-09-14T10:16:49.460446Z",
     "start_time": "2023-09-14T10:16:49.402728Z"
    }
   },
   "id": "1926bf12c8a2274b"
  },
  {
   "cell_type": "code",
   "execution_count": 14,
   "outputs": [
    {
     "data": {
      "text/plain": "     身長  体重  年代    派閥\n16  160  56  20  たけのこ\n17  170  65  40   きのこ\n18  175  60  20  たけのこ",
      "text/html": "<div>\n<style scoped>\n    .dataframe tbody tr th:only-of-type {\n        vertical-align: middle;\n    }\n\n    .dataframe tbody tr th {\n        vertical-align: top;\n    }\n\n    .dataframe thead th {\n        text-align: right;\n    }\n</style>\n<table border=\"1\" class=\"dataframe\">\n  <thead>\n    <tr style=\"text-align: right;\">\n      <th></th>\n      <th>身長</th>\n      <th>体重</th>\n      <th>年代</th>\n      <th>派閥</th>\n    </tr>\n  </thead>\n  <tbody>\n    <tr>\n      <th>16</th>\n      <td>160</td>\n      <td>56</td>\n      <td>20</td>\n      <td>たけのこ</td>\n    </tr>\n    <tr>\n      <th>17</th>\n      <td>170</td>\n      <td>65</td>\n      <td>40</td>\n      <td>きのこ</td>\n    </tr>\n    <tr>\n      <th>18</th>\n      <td>175</td>\n      <td>60</td>\n      <td>20</td>\n      <td>たけのこ</td>\n    </tr>\n  </tbody>\n</table>\n</div>"
     },
     "execution_count": 14,
     "metadata": {},
     "output_type": "execute_result"
    }
   ],
   "source": [
    "df.tail(3)"
   ],
   "metadata": {
    "collapsed": false,
    "ExecuteTime": {
     "end_time": "2023-09-14T10:17:20.868612Z",
     "start_time": "2023-09-14T10:17:20.831678Z"
    }
   },
   "id": "947a9f7ceb48db8a"
  },
  {
   "cell_type": "code",
   "execution_count": 15,
   "outputs": [
    {
     "data": {
      "text/plain": "0     170\n1     172\n2     170\n3     170\n4     177\n5     168\n6     169\n7     170\n8     180\n9     170\n10    165\n11    170\n12    175\n13    170\n14    170\n15    155\n16    160\n17    170\n18    175\nName: 身長, dtype: int64"
     },
     "execution_count": 15,
     "metadata": {},
     "output_type": "execute_result"
    }
   ],
   "source": [
    "# 特定の列を参照\n",
    "df['身長']"
   ],
   "metadata": {
    "collapsed": false,
    "ExecuteTime": {
     "end_time": "2023-09-14T10:17:39.175349Z",
     "start_time": "2023-09-14T10:17:39.140058Z"
    }
   },
   "id": "e251160613a5df61"
  },
  {
   "cell_type": "code",
   "execution_count": 16,
   "outputs": [
    {
     "data": {
      "text/plain": "     身長  体重\n0   170  60\n1   172  65\n2   170  60\n3   170  65\n4   177  65\n5   168  55\n6   169  65\n7   170  62\n8   180  70\n9   170  68\n10  165  65\n11  170  72\n12  175  77\n13  170  65\n14  170  65\n15  155  56\n16  160  56\n17  170  65\n18  175  60",
      "text/html": "<div>\n<style scoped>\n    .dataframe tbody tr th:only-of-type {\n        vertical-align: middle;\n    }\n\n    .dataframe tbody tr th {\n        vertical-align: top;\n    }\n\n    .dataframe thead th {\n        text-align: right;\n    }\n</style>\n<table border=\"1\" class=\"dataframe\">\n  <thead>\n    <tr style=\"text-align: right;\">\n      <th></th>\n      <th>身長</th>\n      <th>体重</th>\n    </tr>\n  </thead>\n  <tbody>\n    <tr>\n      <th>0</th>\n      <td>170</td>\n      <td>60</td>\n    </tr>\n    <tr>\n      <th>1</th>\n      <td>172</td>\n      <td>65</td>\n    </tr>\n    <tr>\n      <th>2</th>\n      <td>170</td>\n      <td>60</td>\n    </tr>\n    <tr>\n      <th>3</th>\n      <td>170</td>\n      <td>65</td>\n    </tr>\n    <tr>\n      <th>4</th>\n      <td>177</td>\n      <td>65</td>\n    </tr>\n    <tr>\n      <th>5</th>\n      <td>168</td>\n      <td>55</td>\n    </tr>\n    <tr>\n      <th>6</th>\n      <td>169</td>\n      <td>65</td>\n    </tr>\n    <tr>\n      <th>7</th>\n      <td>170</td>\n      <td>62</td>\n    </tr>\n    <tr>\n      <th>8</th>\n      <td>180</td>\n      <td>70</td>\n    </tr>\n    <tr>\n      <th>9</th>\n      <td>170</td>\n      <td>68</td>\n    </tr>\n    <tr>\n      <th>10</th>\n      <td>165</td>\n      <td>65</td>\n    </tr>\n    <tr>\n      <th>11</th>\n      <td>170</td>\n      <td>72</td>\n    </tr>\n    <tr>\n      <th>12</th>\n      <td>175</td>\n      <td>77</td>\n    </tr>\n    <tr>\n      <th>13</th>\n      <td>170</td>\n      <td>65</td>\n    </tr>\n    <tr>\n      <th>14</th>\n      <td>170</td>\n      <td>65</td>\n    </tr>\n    <tr>\n      <th>15</th>\n      <td>155</td>\n      <td>56</td>\n    </tr>\n    <tr>\n      <th>16</th>\n      <td>160</td>\n      <td>56</td>\n    </tr>\n    <tr>\n      <th>17</th>\n      <td>170</td>\n      <td>65</td>\n    </tr>\n    <tr>\n      <th>18</th>\n      <td>175</td>\n      <td>60</td>\n    </tr>\n  </tbody>\n</table>\n</div>"
     },
     "execution_count": 16,
     "metadata": {},
     "output_type": "execute_result"
    }
   ],
   "source": [
    "col = ['身長', '体重']\n",
    "df[col]"
   ],
   "metadata": {
    "collapsed": false,
    "ExecuteTime": {
     "end_time": "2023-09-14T10:17:59.935467Z",
     "start_time": "2023-09-14T10:17:59.874054Z"
    }
   },
   "id": "6f297d1fd93602be"
  },
  {
   "cell_type": "code",
   "execution_count": 18,
   "outputs": [
    {
     "data": {
      "text/plain": "pandas.core.series.Series"
     },
     "execution_count": 18,
     "metadata": {},
     "output_type": "execute_result"
    }
   ],
   "source": [
    "# 1次元はSeriesという型\n",
    "type(df['派閥'])"
   ],
   "metadata": {
    "collapsed": false,
    "ExecuteTime": {
     "end_time": "2023-09-14T10:18:43.412303Z",
     "start_time": "2023-09-14T10:18:43.355612Z"
    }
   },
   "id": "598b15be3e0e271f"
  },
  {
   "cell_type": "code",
   "execution_count": 19,
   "outputs": [
    {
     "data": {
      "text/plain": "     身長  体重  年代\n0   170  60  10\n1   172  65  20\n2   170  60  30\n3   170  65  40\n4   177  65  10\n5   168  55  20\n6   169  65  30\n7   170  62  40\n8   180  70  10\n9   170  68  20\n10  165  65  40\n11  170  72  20\n12  175  77  40\n13  170  65  30\n14  170  65  30\n15  155  56  20\n16  160  56  20\n17  170  65  40\n18  175  60  20",
      "text/html": "<div>\n<style scoped>\n    .dataframe tbody tr th:only-of-type {\n        vertical-align: middle;\n    }\n\n    .dataframe tbody tr th {\n        vertical-align: top;\n    }\n\n    .dataframe thead th {\n        text-align: right;\n    }\n</style>\n<table border=\"1\" class=\"dataframe\">\n  <thead>\n    <tr style=\"text-align: right;\">\n      <th></th>\n      <th>身長</th>\n      <th>体重</th>\n      <th>年代</th>\n    </tr>\n  </thead>\n  <tbody>\n    <tr>\n      <th>0</th>\n      <td>170</td>\n      <td>60</td>\n      <td>10</td>\n    </tr>\n    <tr>\n      <th>1</th>\n      <td>172</td>\n      <td>65</td>\n      <td>20</td>\n    </tr>\n    <tr>\n      <th>2</th>\n      <td>170</td>\n      <td>60</td>\n      <td>30</td>\n    </tr>\n    <tr>\n      <th>3</th>\n      <td>170</td>\n      <td>65</td>\n      <td>40</td>\n    </tr>\n    <tr>\n      <th>4</th>\n      <td>177</td>\n      <td>65</td>\n      <td>10</td>\n    </tr>\n    <tr>\n      <th>5</th>\n      <td>168</td>\n      <td>55</td>\n      <td>20</td>\n    </tr>\n    <tr>\n      <th>6</th>\n      <td>169</td>\n      <td>65</td>\n      <td>30</td>\n    </tr>\n    <tr>\n      <th>7</th>\n      <td>170</td>\n      <td>62</td>\n      <td>40</td>\n    </tr>\n    <tr>\n      <th>8</th>\n      <td>180</td>\n      <td>70</td>\n      <td>10</td>\n    </tr>\n    <tr>\n      <th>9</th>\n      <td>170</td>\n      <td>68</td>\n      <td>20</td>\n    </tr>\n    <tr>\n      <th>10</th>\n      <td>165</td>\n      <td>65</td>\n      <td>40</td>\n    </tr>\n    <tr>\n      <th>11</th>\n      <td>170</td>\n      <td>72</td>\n      <td>20</td>\n    </tr>\n    <tr>\n      <th>12</th>\n      <td>175</td>\n      <td>77</td>\n      <td>40</td>\n    </tr>\n    <tr>\n      <th>13</th>\n      <td>170</td>\n      <td>65</td>\n      <td>30</td>\n    </tr>\n    <tr>\n      <th>14</th>\n      <td>170</td>\n      <td>65</td>\n      <td>30</td>\n    </tr>\n    <tr>\n      <th>15</th>\n      <td>155</td>\n      <td>56</td>\n      <td>20</td>\n    </tr>\n    <tr>\n      <th>16</th>\n      <td>160</td>\n      <td>56</td>\n      <td>20</td>\n    </tr>\n    <tr>\n      <th>17</th>\n      <td>170</td>\n      <td>65</td>\n      <td>40</td>\n    </tr>\n    <tr>\n      <th>18</th>\n      <td>175</td>\n      <td>60</td>\n      <td>20</td>\n    </tr>\n  </tbody>\n</table>\n</div>"
     },
     "execution_count": 19,
     "metadata": {},
     "output_type": "execute_result"
    }
   ],
   "source": [
    "xcol = ['身長', '体重', '年代']\n",
    "x = df[xcol]\n",
    "x"
   ],
   "metadata": {
    "collapsed": false,
    "ExecuteTime": {
     "end_time": "2023-09-14T10:19:46.393807Z",
     "start_time": "2023-09-14T10:19:46.387980Z"
    }
   },
   "id": "61947c9a306c0fff"
  },
  {
   "cell_type": "code",
   "execution_count": 20,
   "outputs": [
    {
     "data": {
      "text/plain": "0      きのこ\n1      きのこ\n2     たけのこ\n3      きのこ\n4     たけのこ\n5      きのこ\n6     たけのこ\n7     たけのこ\n8     たけのこ\n9      きのこ\n10    たけのこ\n11     きのこ\n12    たけのこ\n13    たけのこ\n14    たけのこ\n15     きのこ\n16    たけのこ\n17     きのこ\n18    たけのこ\nName: 派閥, dtype: object"
     },
     "execution_count": 20,
     "metadata": {},
     "output_type": "execute_result"
    }
   ],
   "source": [
    "t = df['派閥']\n",
    "t"
   ],
   "metadata": {
    "collapsed": false,
    "ExecuteTime": {
     "end_time": "2023-09-14T10:20:07.242827Z",
     "start_time": "2023-09-14T10:20:07.217950Z"
    }
   },
   "id": "3226c09807d65a54"
  },
  {
   "cell_type": "code",
   "execution_count": 21,
   "outputs": [
    {
     "data": {
      "text/plain": "DecisionTreeClassifier(random_state=0)",
      "text/html": "<style>#sk-container-id-1 {color: black;}#sk-container-id-1 pre{padding: 0;}#sk-container-id-1 div.sk-toggleable {background-color: white;}#sk-container-id-1 label.sk-toggleable__label {cursor: pointer;display: block;width: 100%;margin-bottom: 0;padding: 0.3em;box-sizing: border-box;text-align: center;}#sk-container-id-1 label.sk-toggleable__label-arrow:before {content: \"▸\";float: left;margin-right: 0.25em;color: #696969;}#sk-container-id-1 label.sk-toggleable__label-arrow:hover:before {color: black;}#sk-container-id-1 div.sk-estimator:hover label.sk-toggleable__label-arrow:before {color: black;}#sk-container-id-1 div.sk-toggleable__content {max-height: 0;max-width: 0;overflow: hidden;text-align: left;background-color: #f0f8ff;}#sk-container-id-1 div.sk-toggleable__content pre {margin: 0.2em;color: black;border-radius: 0.25em;background-color: #f0f8ff;}#sk-container-id-1 input.sk-toggleable__control:checked~div.sk-toggleable__content {max-height: 200px;max-width: 100%;overflow: auto;}#sk-container-id-1 input.sk-toggleable__control:checked~label.sk-toggleable__label-arrow:before {content: \"▾\";}#sk-container-id-1 div.sk-estimator input.sk-toggleable__control:checked~label.sk-toggleable__label {background-color: #d4ebff;}#sk-container-id-1 div.sk-label input.sk-toggleable__control:checked~label.sk-toggleable__label {background-color: #d4ebff;}#sk-container-id-1 input.sk-hidden--visually {border: 0;clip: rect(1px 1px 1px 1px);clip: rect(1px, 1px, 1px, 1px);height: 1px;margin: -1px;overflow: hidden;padding: 0;position: absolute;width: 1px;}#sk-container-id-1 div.sk-estimator {font-family: monospace;background-color: #f0f8ff;border: 1px dotted black;border-radius: 0.25em;box-sizing: border-box;margin-bottom: 0.5em;}#sk-container-id-1 div.sk-estimator:hover {background-color: #d4ebff;}#sk-container-id-1 div.sk-parallel-item::after {content: \"\";width: 100%;border-bottom: 1px solid gray;flex-grow: 1;}#sk-container-id-1 div.sk-label:hover label.sk-toggleable__label {background-color: #d4ebff;}#sk-container-id-1 div.sk-serial::before {content: \"\";position: absolute;border-left: 1px solid gray;box-sizing: border-box;top: 0;bottom: 0;left: 50%;z-index: 0;}#sk-container-id-1 div.sk-serial {display: flex;flex-direction: column;align-items: center;background-color: white;padding-right: 0.2em;padding-left: 0.2em;position: relative;}#sk-container-id-1 div.sk-item {position: relative;z-index: 1;}#sk-container-id-1 div.sk-parallel {display: flex;align-items: stretch;justify-content: center;background-color: white;position: relative;}#sk-container-id-1 div.sk-item::before, #sk-container-id-1 div.sk-parallel-item::before {content: \"\";position: absolute;border-left: 1px solid gray;box-sizing: border-box;top: 0;bottom: 0;left: 50%;z-index: -1;}#sk-container-id-1 div.sk-parallel-item {display: flex;flex-direction: column;z-index: 1;position: relative;background-color: white;}#sk-container-id-1 div.sk-parallel-item:first-child::after {align-self: flex-end;width: 50%;}#sk-container-id-1 div.sk-parallel-item:last-child::after {align-self: flex-start;width: 50%;}#sk-container-id-1 div.sk-parallel-item:only-child::after {width: 0;}#sk-container-id-1 div.sk-dashed-wrapped {border: 1px dashed gray;margin: 0 0.4em 0.5em 0.4em;box-sizing: border-box;padding-bottom: 0.4em;background-color: white;}#sk-container-id-1 div.sk-label label {font-family: monospace;font-weight: bold;display: inline-block;line-height: 1.2em;}#sk-container-id-1 div.sk-label-container {text-align: center;}#sk-container-id-1 div.sk-container {/* jupyter's `normalize.less` sets `[hidden] { display: none; }` but bootstrap.min.css set `[hidden] { display: none !important; }` so we also need the `!important` here to be able to override the default hidden behavior on the sphinx rendered scikit-learn.org. See: https://github.com/scikit-learn/scikit-learn/issues/21755 */display: inline-block !important;position: relative;}#sk-container-id-1 div.sk-text-repr-fallback {display: none;}</style><div id=\"sk-container-id-1\" class=\"sk-top-container\"><div class=\"sk-text-repr-fallback\"><pre>DecisionTreeClassifier(random_state=0)</pre><b>In a Jupyter environment, please rerun this cell to show the HTML representation or trust the notebook. <br />On GitHub, the HTML representation is unable to render, please try loading this page with nbviewer.org.</b></div><div class=\"sk-container\" hidden><div class=\"sk-item\"><div class=\"sk-estimator sk-toggleable\"><input class=\"sk-toggleable__control sk-hidden--visually\" id=\"sk-estimator-id-1\" type=\"checkbox\" checked><label for=\"sk-estimator-id-1\" class=\"sk-toggleable__label sk-toggleable__label-arrow\">DecisionTreeClassifier</label><div class=\"sk-toggleable__content\"><pre>DecisionTreeClassifier(random_state=0)</pre></div></div></div></div></div>"
     },
     "execution_count": 21,
     "metadata": {},
     "output_type": "execute_result"
    }
   ],
   "source": [
    "from sklearn import tree\n",
    "\n",
    "model = tree.DecisionTreeClassifier(random_state=0)\n",
    "model.fit(x, t)"
   ],
   "metadata": {
    "collapsed": false,
    "ExecuteTime": {
     "end_time": "2023-09-14T10:21:07.681652Z",
     "start_time": "2023-09-14T10:21:03.820192Z"
    }
   },
   "id": "911d7729aae00e8a"
  },
  {
   "cell_type": "code",
   "execution_count": 22,
   "outputs": [
    {
     "name": "stderr",
     "output_type": "stream",
     "text": [
      "/Users/hiroaki/dev/learn/python/learn-sukkiri-ml/venv/lib/python3.9/site-packages/sklearn/base.py:464: UserWarning: X does not have valid feature names, but DecisionTreeClassifier was fitted with feature names\n",
      "  warnings.warn(\n"
     ]
    },
    {
     "data": {
      "text/plain": "array(['きのこ'], dtype=object)"
     },
     "execution_count": 22,
     "metadata": {},
     "output_type": "execute_result"
    }
   ],
   "source": [
    "# 新しいデータで予測をしてみる\n",
    "taro = [[170, 70, 20]]\n",
    "\n",
    "model.predict(taro)"
   ],
   "metadata": {
    "collapsed": false,
    "ExecuteTime": {
     "end_time": "2023-09-14T10:22:11.222823Z",
     "start_time": "2023-09-14T10:22:11.147410Z"
    }
   },
   "id": "1b68c4f22b0e8fff"
  },
  {
   "cell_type": "code",
   "execution_count": 24,
   "outputs": [
    {
     "name": "stderr",
     "output_type": "stream",
     "text": [
      "/Users/hiroaki/dev/learn/python/learn-sukkiri-ml/venv/lib/python3.9/site-packages/sklearn/base.py:464: UserWarning: X does not have valid feature names, but DecisionTreeClassifier was fitted with feature names\n",
      "  warnings.warn(\n"
     ]
    },
    {
     "data": {
      "text/plain": "array(['きのこ', 'たけのこ'], dtype=object)"
     },
     "execution_count": 24,
     "metadata": {},
     "output_type": "execute_result"
    }
   ],
   "source": [
    "matsuda = [172, 65, 20]\n",
    "asagi = [158, 48, 20]\n",
    "new_data = [matsuda, asagi]\n",
    "model.predict(new_data)"
   ],
   "metadata": {
    "collapsed": false,
    "ExecuteTime": {
     "end_time": "2023-09-14T10:24:06.919088Z",
     "start_time": "2023-09-14T10:24:06.884096Z"
    }
   },
   "id": "3f395bfe4c47662b"
  },
  {
   "cell_type": "code",
   "execution_count": 26,
   "outputs": [
    {
     "data": {
      "text/plain": "1.0"
     },
     "execution_count": 26,
     "metadata": {},
     "output_type": "execute_result"
    }
   ],
   "source": [
    "model.score(x, t)"
   ],
   "metadata": {
    "collapsed": false,
    "ExecuteTime": {
     "end_time": "2023-09-14T13:38:32.891953Z",
     "start_time": "2023-09-14T13:38:32.834452Z"
    }
   },
   "id": "c20b460d916083bf"
  },
  {
   "cell_type": "code",
   "execution_count": 32,
   "outputs": [],
   "source": [
    "import pickle\n",
    "\n",
    "with open('out/KinokoTakenoko.pkl', 'wb') as f:\n",
    "    pickle.dump(model, f)"
   ],
   "metadata": {
    "collapsed": false,
    "ExecuteTime": {
     "end_time": "2023-09-14T13:41:41.984133Z",
     "start_time": "2023-09-14T13:41:41.978449Z"
    }
   },
   "id": "1e109126f44a6320"
  },
  {
   "cell_type": "code",
   "execution_count": 33,
   "outputs": [
    {
     "name": "stderr",
     "output_type": "stream",
     "text": [
      "/Users/hiroaki/dev/learn/python/learn-sukkiri-ml/venv/lib/python3.9/site-packages/sklearn/base.py:464: UserWarning: X does not have valid feature names, but DecisionTreeClassifier was fitted with feature names\n",
      "  warnings.warn(\n"
     ]
    },
    {
     "data": {
      "text/plain": "array(['たけのこ'], dtype=object)"
     },
     "execution_count": 33,
     "metadata": {},
     "output_type": "execute_result"
    }
   ],
   "source": [
    "import pickle\n",
    "\n",
    "with open('out/KinokoTakenoko.pkl', 'rb') as f:\n",
    "    model2 = pickle.load(f)\n",
    "\n",
    "suzuki = [[180, 75, 30]]\n",
    "model2.predict(suzuki)"
   ],
   "metadata": {
    "collapsed": false,
    "ExecuteTime": {
     "end_time": "2023-09-14T13:43:21.468614Z",
     "start_time": "2023-09-14T13:43:21.457442Z"
    }
   },
   "id": "42331dbe53dcecb1"
  }
 ],
 "metadata": {
  "kernelspec": {
   "display_name": "Python 3",
   "language": "python",
   "name": "python3"
  },
  "language_info": {
   "codemirror_mode": {
    "name": "ipython",
    "version": 2
   },
   "file_extension": ".py",
   "mimetype": "text/x-python",
   "name": "python",
   "nbconvert_exporter": "python",
   "pygments_lexer": "ipython2",
   "version": "2.7.6"
  }
 },
 "nbformat": 4,
 "nbformat_minor": 5
}
